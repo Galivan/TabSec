{
 "cells": [
  {
   "cell_type": "code",
   "execution_count": 1,
   "metadata": {},
   "outputs": [],
   "source": [
    "from pytorch_tabnet.tab_model import TabNetClassifier\n",
    "from helpers.preproccesing_tabnet_attack import get_weights, normalize, get_bounds\n",
    "\n",
    "import torch\n",
    "from sklearn.preprocessing import LabelEncoder\n",
    "from sklearn.metrics import roc_auc_score\n",
    "from sklearn.datasets import fetch_openml\n",
    "\n",
    "import pandas as pd\n",
    "import numpy as np\n",
    "np.random.seed(0)\n",
    "\n",
    "# Pytorch\n",
    "import torch\n",
    "import torch.nn as nn\n",
    "from torch.autograd import Variable\n",
    "\n",
    "import tqdm\n",
    "from tqdm import tqdm\n",
    "from tqdm import tqdm\n",
    "\n",
    "\n",
    "import os\n",
    "import wget\n",
    "from pathlib import Path\n",
    "\n",
    "from matplotlib import pyplot as plt\n",
    "%matplotlib inline"
   ]
  },
  {
   "cell_type": "markdown",
   "metadata": {},
   "source": [
    "# Get Credit-g Dataset"
   ]
  },
  {
   "cell_type": "code",
   "execution_count": 2,
   "metadata": {},
   "outputs": [
    {
     "name": "stderr",
     "output_type": "stream",
     "text": [
      "/Library/Frameworks/Python.framework/Versions/3.7/lib/python3.7/site-packages/sklearn/datasets/_openml.py:421: UserWarning: Multiple active versions of the dataset matching the name credit-g exist. Versions may be fundamentally different, returning version 1.\n",
      "  \" {version}.\".format(name=name, version=res[0][\"version\"])\n"
     ]
    }
   ],
   "source": [
    "dataset = 'credit-g'\n",
    "dataset_name = 'credit-g'\n",
    "target = 'target' \n",
    "\n",
    "dataset = fetch_openml(dataset)\n",
    "\n",
    "train = pd.DataFrame(data= np.c_[dataset['data'], dataset[target]],\n",
    "                  columns= dataset['feature_names'] + [target]) \n",
    "\n",
    " # Renaming target for training later\n",
    "train[target] = train[target].apply(lambda x : 0.0 if x == 'bad' or x == 0.0 else 1)\n"
   ]
  },
  {
   "cell_type": "markdown",
   "metadata": {},
   "source": [
    "# Split Data"
   ]
  },
  {
   "cell_type": "code",
   "execution_count": 3,
   "metadata": {},
   "outputs": [],
   "source": [
    "train_set = np.random.choice([\"train\", \"valid\", \"test\"], p =[.8, .1, .1], size=(train.shape[0],))\n",
    "\n",
    "train_indices = train[train_set==\"train\"].index\n",
    "valid_indices = train[train_set==\"valid\"].index\n",
    "test_indices = train[train_set==\"test\"].index\n"
   ]
  },
  {
   "cell_type": "markdown",
   "metadata": {},
   "source": [
    "# Preproccessing Label encode categorical features."
   ]
  },
  {
   "cell_type": "code",
   "execution_count": 4,
   "metadata": {},
   "outputs": [
    {
     "name": "stdout",
     "output_type": "stream",
     "text": [
      "checking_status 4\n",
      "duration 33\n",
      "credit_history 5\n",
      "purpose 10\n",
      "credit_amount 921\n",
      "savings_status 5\n",
      "employment 5\n",
      "installment_commitment 4\n",
      "personal_status 4\n",
      "other_parties 3\n",
      "residence_since 4\n",
      "property_magnitude 4\n",
      "age 53\n",
      "other_payment_plans 3\n",
      "housing 3\n",
      "existing_credits 4\n",
      "job 4\n",
      "num_dependents 2\n",
      "own_telephone 2\n",
      "foreign_worker 2\n",
      "target 2\n"
     ]
    }
   ],
   "source": [
    "nunique = train.nunique()\n",
    "types = train.dtypes\n",
    "\n",
    "categorical_columns = []\n",
    "categorical_dims =  {}\n",
    "for col in train.columns:\n",
    "    if types[col] == 'object' or nunique[col] < 200:\n",
    "        print(col, train[col].nunique())\n",
    "        l_enc = LabelEncoder()\n",
    "        train[col] = train[col].fillna(\"VV_likely\")\n",
    "        train[col] = l_enc.fit_transform(train[col].values)\n",
    "        categorical_columns.append(col)\n",
    "        categorical_dims[col] = len(l_enc.classes_)\n",
    "    else:\n",
    "        train.fillna(train.loc[train_indices, col].mean(), inplace=True)"
   ]
  },
  {
   "cell_type": "markdown",
   "metadata": {},
   "source": [
    "# Define categorical features for categorical embeddings"
   ]
  },
  {
   "cell_type": "code",
   "execution_count": 5,
   "metadata": {},
   "outputs": [],
   "source": [
    "# unused_feat = ['Set']\n",
    "\n",
    "unused_feat = []\n",
    "\n",
    "features = [ col for col in train.columns if col not in unused_feat+[target]] \n",
    "\n",
    "cat_idxs = [ i for i, f in enumerate(features) if f in categorical_columns]\n",
    "\n",
    "cat_dims = [ categorical_dims[f] for i, f in enumerate(features) if f in categorical_columns]"
   ]
  },
  {
   "cell_type": "markdown",
   "metadata": {},
   "source": [
    "# Network parameters"
   ]
  },
  {
   "cell_type": "code",
   "execution_count": 6,
   "metadata": {},
   "outputs": [
    {
     "name": "stderr",
     "output_type": "stream",
     "text": [
      "/Users/nazaraburas/Desktop/dl_project/TabSec/pytorch_tabnet/abstract_model.py:75: UserWarning: Device used : cpu\n",
      "  warnings.warn(f\"Device used : {self.device}\")\n"
     ]
    }
   ],
   "source": [
    "tabnet_params = {\"cat_idxs\":cat_idxs,\n",
    "                 \"cat_dims\":cat_dims,\n",
    "                 \"cat_emb_dim\":1,\n",
    "                 \"optimizer_fn\":torch.optim.Adam,\n",
    "                 \"optimizer_params\":dict(lr=2e-3),\n",
    "                 \"scheduler_params\":{\"step_size\":20, # how to use learning rate scheduler\n",
    "                                 \"gamma\":0.9},\n",
    "                 \"scheduler_fn\":torch.optim.lr_scheduler.StepLR,\n",
    "                 \"mask_type\":'entmax' # \"sparsemax\"\n",
    "                }\n",
    "\n",
    "clf = TabNetClassifier(**tabnet_params\n",
    "                      )\n",
    "\n"
   ]
  },
  {
   "cell_type": "code",
   "execution_count": 7,
   "metadata": {},
   "outputs": [],
   "source": [
    "SEED = 0\n",
    "# Compute the bounds for clipping\n",
    "bounds = get_bounds(train)\n",
    "\n",
    "# Normalize the data\n",
    "#scaler, train, bounds = normalize(train, target, features, bounds)\n",
    "\n",
    "# Compute the weights modelizing the expert's knowledge\n",
    "weights = get_weights(train, target)"
   ]
  },
  {
   "cell_type": "markdown",
   "metadata": {},
   "source": [
    "# Training"
   ]
  },
  {
   "cell_type": "code",
   "execution_count": 8,
   "metadata": {},
   "outputs": [],
   "source": [
    "X_train = train[features].values[train_indices]\n",
    "y_train = train[target].values[train_indices]\n",
    "\n",
    "X_valid = train[features].values[valid_indices]\n",
    "y_valid = train[target].values[valid_indices]\n",
    "\n",
    "X_test = train[features].values[test_indices]\n",
    "y_test = train[target].values[test_indices]"
   ]
  },
  {
   "cell_type": "code",
   "execution_count": 9,
   "metadata": {},
   "outputs": [],
   "source": [
    "max_epochs = 1000 if not os.getenv(\"CI\", False) else 2"
   ]
  },
  {
   "cell_type": "code",
   "execution_count": 10,
   "metadata": {},
   "outputs": [],
   "source": [
    "from pytorch_tabnet.augmentations import ClassificationSMOTE\n",
    "aug = ClassificationSMOTE(p=0.2)"
   ]
  },
  {
   "cell_type": "code",
   "execution_count": 11,
   "metadata": {},
   "outputs": [
    {
     "name": "stdout",
     "output_type": "stream",
     "text": [
      "epoch 0  | loss: 1.12169 | train_auc: 0.49059 | valid_auc: 0.41205 |  0:00:00s\n",
      "epoch 1  | loss: 1.11225 | train_auc: 0.52627 | valid_auc: 0.43017 |  0:00:00s\n",
      "epoch 2  | loss: 1.02725 | train_auc: 0.53272 | valid_auc: 0.45416 |  0:00:00s\n",
      "epoch 3  | loss: 0.95978 | train_auc: 0.5317  | valid_auc: 0.46482 |  0:00:00s\n",
      "epoch 4  | loss: 0.95134 | train_auc: 0.52825 | valid_auc: 0.46802 |  0:00:00s\n",
      "epoch 5  | loss: 0.95533 | train_auc: 0.53019 | valid_auc: 0.47228 |  0:00:00s\n",
      "epoch 6  | loss: 0.96258 | train_auc: 0.53373 | valid_auc: 0.48134 |  0:00:00s\n",
      "epoch 7  | loss: 0.91441 | train_auc: 0.53673 | valid_auc: 0.49627 |  0:00:00s\n",
      "epoch 8  | loss: 0.93052 | train_auc: 0.5393  | valid_auc: 0.50533 |  0:00:00s\n",
      "epoch 9  | loss: 0.85057 | train_auc: 0.54247 | valid_auc: 0.51812 |  0:00:01s\n",
      "epoch 10 | loss: 0.84792 | train_auc: 0.54479 | valid_auc: 0.52665 |  0:00:01s\n",
      "epoch 11 | loss: 0.80767 | train_auc: 0.54851 | valid_auc: 0.52985 |  0:00:01s\n",
      "epoch 12 | loss: 0.82005 | train_auc: 0.54813 | valid_auc: 0.53785 |  0:00:01s\n",
      "epoch 13 | loss: 0.84791 | train_auc: 0.55138 | valid_auc: 0.54051 |  0:00:01s\n",
      "epoch 14 | loss: 0.82304 | train_auc: 0.55553 | valid_auc: 0.53891 |  0:00:01s\n",
      "epoch 15 | loss: 0.78944 | train_auc: 0.55823 | valid_auc: 0.54211 |  0:00:01s\n",
      "epoch 16 | loss: 0.76985 | train_auc: 0.56149 | valid_auc: 0.54318 |  0:00:01s\n",
      "epoch 17 | loss: 0.74941 | train_auc: 0.5637  | valid_auc: 0.54371 |  0:00:02s\n",
      "epoch 18 | loss: 0.78251 | train_auc: 0.56435 | valid_auc: 0.54318 |  0:00:02s\n",
      "epoch 19 | loss: 0.76204 | train_auc: 0.56562 | valid_auc: 0.54051 |  0:00:02s\n",
      "epoch 20 | loss: 0.7982  | train_auc: 0.56657 | valid_auc: 0.54424 |  0:00:02s\n",
      "epoch 21 | loss: 0.76652 | train_auc: 0.5675  | valid_auc: 0.54638 |  0:00:02s\n",
      "epoch 22 | loss: 0.79776 | train_auc: 0.56708 | valid_auc: 0.54797 |  0:00:02s\n",
      "epoch 23 | loss: 0.75516 | train_auc: 0.56621 | valid_auc: 0.54531 |  0:00:02s\n",
      "epoch 24 | loss: 0.70911 | train_auc: 0.5679  | valid_auc: 0.54264 |  0:00:02s\n",
      "epoch 25 | loss: 0.77644 | train_auc: 0.56939 | valid_auc: 0.54531 |  0:00:02s\n",
      "epoch 26 | loss: 0.75636 | train_auc: 0.56974 | valid_auc: 0.54904 |  0:00:02s\n",
      "epoch 27 | loss: 0.74747 | train_auc: 0.57026 | valid_auc: 0.54851 |  0:00:03s\n",
      "epoch 28 | loss: 0.72202 | train_auc: 0.57168 | valid_auc: 0.55277 |  0:00:03s\n",
      "epoch 29 | loss: 0.74002 | train_auc: 0.57143 | valid_auc: 0.54904 |  0:00:03s\n",
      "epoch 30 | loss: 0.72853 | train_auc: 0.57087 | valid_auc: 0.54957 |  0:00:03s\n",
      "epoch 31 | loss: 0.72945 | train_auc: 0.57246 | valid_auc: 0.54531 |  0:00:03s\n",
      "epoch 32 | loss: 0.71625 | train_auc: 0.57328 | valid_auc: 0.54158 |  0:00:03s\n",
      "epoch 33 | loss: 0.70735 | train_auc: 0.57399 | valid_auc: 0.54691 |  0:00:03s\n",
      "epoch 34 | loss: 0.71195 | train_auc: 0.57391 | valid_auc: 0.54264 |  0:00:03s\n",
      "epoch 35 | loss: 0.70697 | train_auc: 0.57511 | valid_auc: 0.55064 |  0:00:03s\n",
      "epoch 36 | loss: 0.70404 | train_auc: 0.57597 | valid_auc: 0.54478 |  0:00:04s\n",
      "epoch 37 | loss: 0.72833 | train_auc: 0.57788 | valid_auc: 0.54264 |  0:00:04s\n",
      "epoch 38 | loss: 0.71137 | train_auc: 0.57921 | valid_auc: 0.54104 |  0:00:04s\n",
      "epoch 39 | loss: 0.71355 | train_auc: 0.57894 | valid_auc: 0.54211 |  0:00:04s\n",
      "epoch 40 | loss: 0.71867 | train_auc: 0.58004 | valid_auc: 0.54318 |  0:00:04s\n",
      "epoch 41 | loss: 0.70646 | train_auc: 0.5816  | valid_auc: 0.54531 |  0:00:04s\n",
      "epoch 42 | loss: 0.70165 | train_auc: 0.57983 | valid_auc: 0.54797 |  0:00:04s\n",
      "epoch 43 | loss: 0.69322 | train_auc: 0.58248 | valid_auc: 0.5613  |  0:00:04s\n",
      "epoch 44 | loss: 0.70168 | train_auc: 0.58205 | valid_auc: 0.5597  |  0:00:04s\n",
      "epoch 45 | loss: 0.70848 | train_auc: 0.58097 | valid_auc: 0.55384 |  0:00:04s\n",
      "epoch 46 | loss: 0.69124 | train_auc: 0.57888 | valid_auc: 0.55171 |  0:00:05s\n",
      "epoch 47 | loss: 0.69814 | train_auc: 0.57967 | valid_auc: 0.54797 |  0:00:05s\n",
      "epoch 48 | loss: 0.68256 | train_auc: 0.57995 | valid_auc: 0.55384 |  0:00:05s\n",
      "epoch 49 | loss: 0.70374 | train_auc: 0.58259 | valid_auc: 0.5565  |  0:00:05s\n",
      "epoch 50 | loss: 0.69714 | train_auc: 0.5827  | valid_auc: 0.5597  |  0:00:05s\n",
      "epoch 51 | loss: 0.69376 | train_auc: 0.58329 | valid_auc: 0.56077 |  0:00:05s\n",
      "epoch 52 | loss: 0.68977 | train_auc: 0.58461 | valid_auc: 0.56663 |  0:00:05s\n",
      "epoch 53 | loss: 0.71085 | train_auc: 0.58614 | valid_auc: 0.56983 |  0:00:05s\n",
      "epoch 54 | loss: 0.71337 | train_auc: 0.5869  | valid_auc: 0.5661  |  0:00:05s\n",
      "epoch 55 | loss: 0.67634 | train_auc: 0.58815 | valid_auc: 0.5677  |  0:00:05s\n",
      "epoch 56 | loss: 0.68865 | train_auc: 0.58831 | valid_auc: 0.5709  |  0:00:05s\n",
      "epoch 57 | loss: 0.67023 | train_auc: 0.58959 | valid_auc: 0.56823 |  0:00:06s\n",
      "epoch 58 | loss: 0.68694 | train_auc: 0.58968 | valid_auc: 0.56876 |  0:00:06s\n",
      "epoch 59 | loss: 0.69009 | train_auc: 0.59057 | valid_auc: 0.56823 |  0:00:06s\n",
      "epoch 60 | loss: 0.67025 | train_auc: 0.59123 | valid_auc: 0.56237 |  0:00:06s\n",
      "epoch 61 | loss: 0.6825  | train_auc: 0.59209 | valid_auc: 0.5645  |  0:00:06s\n",
      "epoch 62 | loss: 0.69527 | train_auc: 0.59224 | valid_auc: 0.56876 |  0:00:06s\n",
      "epoch 63 | loss: 0.68418 | train_auc: 0.59417 | valid_auc: 0.5629  |  0:00:06s\n",
      "epoch 64 | loss: 0.68653 | train_auc: 0.59627 | valid_auc: 0.57249 |  0:00:06s\n",
      "epoch 65 | loss: 0.69013 | train_auc: 0.59627 | valid_auc: 0.57036 |  0:00:06s\n",
      "epoch 66 | loss: 0.68621 | train_auc: 0.59696 | valid_auc: 0.57676 |  0:00:06s\n",
      "epoch 67 | loss: 0.67397 | train_auc: 0.59876 | valid_auc: 0.57409 |  0:00:07s\n",
      "epoch 68 | loss: 0.67407 | train_auc: 0.59985 | valid_auc: 0.57036 |  0:00:07s\n",
      "epoch 69 | loss: 0.68168 | train_auc: 0.602   | valid_auc: 0.56983 |  0:00:07s\n",
      "epoch 70 | loss: 0.69615 | train_auc: 0.60163 | valid_auc: 0.5677  |  0:00:07s\n",
      "epoch 71 | loss: 0.64743 | train_auc: 0.60294 | valid_auc: 0.57409 |  0:00:07s\n",
      "epoch 72 | loss: 0.66347 | train_auc: 0.60265 | valid_auc: 0.5709  |  0:00:07s\n",
      "epoch 73 | loss: 0.67164 | train_auc: 0.60366 | valid_auc: 0.57303 |  0:00:07s\n",
      "epoch 74 | loss: 0.67362 | train_auc: 0.60444 | valid_auc: 0.57942 |  0:00:07s\n",
      "epoch 75 | loss: 0.66805 | train_auc: 0.60441 | valid_auc: 0.57623 |  0:00:07s\n",
      "epoch 76 | loss: 0.67609 | train_auc: 0.60704 | valid_auc: 0.57676 |  0:00:07s\n",
      "epoch 77 | loss: 0.66915 | train_auc: 0.60937 | valid_auc: 0.57889 |  0:00:08s\n",
      "epoch 78 | loss: 0.66134 | train_auc: 0.61121 | valid_auc: 0.58102 |  0:00:08s\n",
      "epoch 79 | loss: 0.66049 | train_auc: 0.61293 | valid_auc: 0.58262 |  0:00:08s\n",
      "epoch 80 | loss: 0.67615 | train_auc: 0.61441 | valid_auc: 0.58422 |  0:00:08s\n",
      "epoch 81 | loss: 0.65755 | train_auc: 0.61571 | valid_auc: 0.58529 |  0:00:08s\n",
      "epoch 82 | loss: 0.68094 | train_auc: 0.61641 | valid_auc: 0.58582 |  0:00:08s\n",
      "epoch 83 | loss: 0.66271 | train_auc: 0.61899 | valid_auc: 0.58849 |  0:00:08s\n",
      "epoch 84 | loss: 0.65202 | train_auc: 0.62066 | valid_auc: 0.59328 |  0:00:08s\n",
      "epoch 85 | loss: 0.67247 | train_auc: 0.62127 | valid_auc: 0.59435 |  0:00:08s\n",
      "epoch 86 | loss: 0.66634 | train_auc: 0.62129 | valid_auc: 0.59115 |  0:00:08s\n",
      "epoch 87 | loss: 0.65121 | train_auc: 0.62235 | valid_auc: 0.59115 |  0:00:09s\n",
      "epoch 88 | loss: 0.66376 | train_auc: 0.62388 | valid_auc: 0.59435 |  0:00:09s\n",
      "epoch 89 | loss: 0.67178 | train_auc: 0.62544 | valid_auc: 0.59542 |  0:00:09s\n",
      "epoch 90 | loss: 0.66486 | train_auc: 0.62728 | valid_auc: 0.59542 |  0:00:09s\n",
      "epoch 91 | loss: 0.67736 | train_auc: 0.6293  | valid_auc: 0.59648 |  0:00:09s\n",
      "epoch 92 | loss: 0.64893 | train_auc: 0.63123 | valid_auc: 0.58849 |  0:00:09s\n",
      "epoch 93 | loss: 0.64613 | train_auc: 0.63161 | valid_auc: 0.58529 |  0:00:09s\n",
      "epoch 94 | loss: 0.65457 | train_auc: 0.63259 | valid_auc: 0.58316 |  0:00:09s\n",
      "epoch 95 | loss: 0.65295 | train_auc: 0.63257 | valid_auc: 0.59009 |  0:00:09s\n",
      "epoch 96 | loss: 0.66714 | train_auc: 0.63289 | valid_auc: 0.59222 |  0:00:09s\n",
      "epoch 97 | loss: 0.65126 | train_auc: 0.63303 | valid_auc: 0.59595 |  0:00:10s\n",
      "epoch 98 | loss: 0.64559 | train_auc: 0.63534 | valid_auc: 0.59595 |  0:00:10s\n",
      "epoch 99 | loss: 0.65944 | train_auc: 0.63574 | valid_auc: 0.59808 |  0:00:10s\n",
      "epoch 100| loss: 0.66159 | train_auc: 0.63638 | valid_auc: 0.60341 |  0:00:10s\n",
      "epoch 101| loss: 0.64366 | train_auc: 0.63673 | valid_auc: 0.59595 |  0:00:10s\n",
      "epoch 102| loss: 0.6455  | train_auc: 0.63696 | valid_auc: 0.59861 |  0:00:10s\n",
      "epoch 103| loss: 0.64397 | train_auc: 0.63807 | valid_auc: 0.59755 |  0:00:10s\n",
      "epoch 104| loss: 0.66367 | train_auc: 0.63726 | valid_auc: 0.60181 |  0:00:10s\n",
      "epoch 105| loss: 0.63714 | train_auc: 0.63889 | valid_auc: 0.60235 |  0:00:10s\n"
     ]
    },
    {
     "name": "stdout",
     "output_type": "stream",
     "text": [
      "epoch 106| loss: 0.65534 | train_auc: 0.64    | valid_auc: 0.60181 |  0:00:10s\n",
      "epoch 107| loss: 0.65302 | train_auc: 0.6414  | valid_auc: 0.60128 |  0:00:11s\n",
      "epoch 108| loss: 0.65729 | train_auc: 0.64237 | valid_auc: 0.59808 |  0:00:11s\n",
      "epoch 109| loss: 0.65786 | train_auc: 0.64352 | valid_auc: 0.59915 |  0:00:11s\n",
      "epoch 110| loss: 0.6498  | train_auc: 0.64193 | valid_auc: 0.59488 |  0:00:11s\n",
      "epoch 111| loss: 0.66234 | train_auc: 0.6417  | valid_auc: 0.59808 |  0:00:11s\n",
      "epoch 112| loss: 0.63517 | train_auc: 0.64205 | valid_auc: 0.59648 |  0:00:11s\n",
      "epoch 113| loss: 0.65684 | train_auc: 0.64161 | valid_auc: 0.59701 |  0:00:11s\n",
      "epoch 114| loss: 0.67401 | train_auc: 0.64109 | valid_auc: 0.60181 |  0:00:11s\n",
      "epoch 115| loss: 0.63866 | train_auc: 0.64122 | valid_auc: 0.60501 |  0:00:11s\n",
      "epoch 116| loss: 0.64437 | train_auc: 0.64264 | valid_auc: 0.60608 |  0:00:11s\n",
      "epoch 117| loss: 0.63941 | train_auc: 0.64261 | valid_auc: 0.60661 |  0:00:12s\n",
      "epoch 118| loss: 0.65528 | train_auc: 0.6429  | valid_auc: 0.60554 |  0:00:12s\n",
      "epoch 119| loss: 0.64323 | train_auc: 0.64408 | valid_auc: 0.60821 |  0:00:12s\n",
      "epoch 120| loss: 0.6577  | train_auc: 0.64434 | valid_auc: 0.60608 |  0:00:12s\n",
      "epoch 121| loss: 0.6667  | train_auc: 0.646   | valid_auc: 0.60448 |  0:00:12s\n",
      "epoch 122| loss: 0.65692 | train_auc: 0.64757 | valid_auc: 0.60768 |  0:00:12s\n",
      "epoch 123| loss: 0.63369 | train_auc: 0.65033 | valid_auc: 0.60075 |  0:00:12s\n",
      "epoch 124| loss: 0.66159 | train_auc: 0.64991 | valid_auc: 0.60501 |  0:00:12s\n",
      "epoch 125| loss: 0.65229 | train_auc: 0.65052 | valid_auc: 0.60821 |  0:00:12s\n",
      "epoch 126| loss: 0.64686 | train_auc: 0.65068 | valid_auc: 0.60501 |  0:00:12s\n",
      "epoch 127| loss: 0.63574 | train_auc: 0.65245 | valid_auc: 0.60554 |  0:00:13s\n",
      "epoch 128| loss: 0.6533  | train_auc: 0.65365 | valid_auc: 0.60394 |  0:00:13s\n",
      "epoch 129| loss: 0.62957 | train_auc: 0.65296 | valid_auc: 0.60661 |  0:00:13s\n",
      "epoch 130| loss: 0.62949 | train_auc: 0.65405 | valid_auc: 0.60714 |  0:00:13s\n",
      "epoch 131| loss: 0.63665 | train_auc: 0.65597 | valid_auc: 0.60661 |  0:00:13s\n",
      "epoch 132| loss: 0.65041 | train_auc: 0.6569  | valid_auc: 0.60394 |  0:00:13s\n",
      "epoch 133| loss: 0.63758 | train_auc: 0.65692 | valid_auc: 0.60821 |  0:00:13s\n",
      "epoch 134| loss: 0.65059 | train_auc: 0.65881 | valid_auc: 0.59915 |  0:00:13s\n",
      "epoch 135| loss: 0.64485 | train_auc: 0.6593  | valid_auc: 0.61087 |  0:00:13s\n",
      "epoch 136| loss: 0.63045 | train_auc: 0.65904 | valid_auc: 0.61674 |  0:00:13s\n",
      "epoch 137| loss: 0.63979 | train_auc: 0.65944 | valid_auc: 0.60821 |  0:00:13s\n",
      "epoch 138| loss: 0.63826 | train_auc: 0.65869 | valid_auc: 0.61834 |  0:00:14s\n",
      "epoch 139| loss: 0.6246  | train_auc: 0.66074 | valid_auc: 0.61674 |  0:00:14s\n",
      "epoch 140| loss: 0.60498 | train_auc: 0.66082 | valid_auc: 0.62367 |  0:00:14s\n",
      "epoch 141| loss: 0.64494 | train_auc: 0.66134 | valid_auc: 0.61834 |  0:00:14s\n",
      "epoch 142| loss: 0.64066 | train_auc: 0.66178 | valid_auc: 0.61834 |  0:00:14s\n",
      "epoch 143| loss: 0.64839 | train_auc: 0.66238 | valid_auc: 0.61887 |  0:00:14s\n",
      "epoch 144| loss: 0.63432 | train_auc: 0.66312 | valid_auc: 0.61834 |  0:00:14s\n",
      "epoch 145| loss: 0.62257 | train_auc: 0.66327 | valid_auc: 0.6226  |  0:00:14s\n",
      "epoch 146| loss: 0.63524 | train_auc: 0.66431 | valid_auc: 0.62367 |  0:00:14s\n",
      "epoch 147| loss: 0.64007 | train_auc: 0.66508 | valid_auc: 0.62154 |  0:00:14s\n",
      "epoch 148| loss: 0.61873 | train_auc: 0.66489 | valid_auc: 0.62207 |  0:00:14s\n",
      "epoch 149| loss: 0.64567 | train_auc: 0.6654  | valid_auc: 0.62793 |  0:00:15s\n",
      "epoch 150| loss: 0.62866 | train_auc: 0.66555 | valid_auc: 0.63273 |  0:00:15s\n",
      "epoch 151| loss: 0.63034 | train_auc: 0.66531 | valid_auc: 0.63433 |  0:00:15s\n",
      "epoch 152| loss: 0.64883 | train_auc: 0.6648  | valid_auc: 0.63753 |  0:00:15s\n",
      "epoch 153| loss: 0.641   | train_auc: 0.66512 | valid_auc: 0.63913 |  0:00:15s\n",
      "epoch 154| loss: 0.62657 | train_auc: 0.66574 | valid_auc: 0.63539 |  0:00:15s\n",
      "epoch 155| loss: 0.62196 | train_auc: 0.66616 | valid_auc: 0.6322  |  0:00:15s\n",
      "epoch 156| loss: 0.62822 | train_auc: 0.66664 | valid_auc: 0.63966 |  0:00:15s\n",
      "epoch 157| loss: 0.64737 | train_auc: 0.66715 | valid_auc: 0.63539 |  0:00:15s\n",
      "epoch 158| loss: 0.62177 | train_auc: 0.66757 | valid_auc: 0.63326 |  0:00:16s\n",
      "epoch 159| loss: 0.61291 | train_auc: 0.66843 | valid_auc: 0.63699 |  0:00:16s\n",
      "epoch 160| loss: 0.65274 | train_auc: 0.66798 | valid_auc: 0.63699 |  0:00:16s\n",
      "epoch 161| loss: 0.62844 | train_auc: 0.66958 | valid_auc: 0.6322  |  0:00:16s\n",
      "epoch 162| loss: 0.64714 | train_auc: 0.67095 | valid_auc: 0.6338  |  0:00:16s\n",
      "epoch 163| loss: 0.62151 | train_auc: 0.67226 | valid_auc: 0.6274  |  0:00:16s\n",
      "epoch 164| loss: 0.61047 | train_auc: 0.67366 | valid_auc: 0.62527 |  0:00:16s\n",
      "epoch 165| loss: 0.63302 | train_auc: 0.67443 | valid_auc: 0.6306  |  0:00:16s\n",
      "epoch 166| loss: 0.65303 | train_auc: 0.67539 | valid_auc: 0.62793 |  0:00:16s\n",
      "epoch 167| loss: 0.63514 | train_auc: 0.67834 | valid_auc: 0.62793 |  0:00:16s\n",
      "epoch 168| loss: 0.63061 | train_auc: 0.67857 | valid_auc: 0.63433 |  0:00:16s\n",
      "epoch 169| loss: 0.62666 | train_auc: 0.67902 | valid_auc: 0.63166 |  0:00:17s\n",
      "epoch 170| loss: 0.61335 | train_auc: 0.67916 | valid_auc: 0.6322  |  0:00:17s\n",
      "epoch 171| loss: 0.62296 | train_auc: 0.68033 | valid_auc: 0.6338  |  0:00:17s\n",
      "epoch 172| loss: 0.60586 | train_auc: 0.67988 | valid_auc: 0.63806 |  0:00:17s\n",
      "epoch 173| loss: 0.61145 | train_auc: 0.68063 | valid_auc: 0.63486 |  0:00:17s\n",
      "epoch 174| loss: 0.60366 | train_auc: 0.68162 | valid_auc: 0.63913 |  0:00:17s\n",
      "epoch 175| loss: 0.63073 | train_auc: 0.68219 | valid_auc: 0.63753 |  0:00:17s\n",
      "epoch 176| loss: 0.61129 | train_auc: 0.68365 | valid_auc: 0.64179 |  0:00:17s\n",
      "epoch 177| loss: 0.62574 | train_auc: 0.68505 | valid_auc: 0.64126 |  0:00:17s\n",
      "epoch 178| loss: 0.6349  | train_auc: 0.68532 | valid_auc: 0.64179 |  0:00:17s\n",
      "epoch 179| loss: 0.62091 | train_auc: 0.68705 | valid_auc: 0.63753 |  0:00:17s\n",
      "epoch 180| loss: 0.61872 | train_auc: 0.6879  | valid_auc: 0.63966 |  0:00:18s\n",
      "epoch 181| loss: 0.61078 | train_auc: 0.69067 | valid_auc: 0.63806 |  0:00:18s\n",
      "epoch 182| loss: 0.63693 | train_auc: 0.69265 | valid_auc: 0.63753 |  0:00:18s\n",
      "epoch 183| loss: 0.61443 | train_auc: 0.6921  | valid_auc: 0.63593 |  0:00:18s\n",
      "epoch 184| loss: 0.62219 | train_auc: 0.69311 | valid_auc: 0.63753 |  0:00:18s\n",
      "epoch 185| loss: 0.605   | train_auc: 0.694   | valid_auc: 0.63913 |  0:00:18s\n",
      "epoch 186| loss: 0.59798 | train_auc: 0.69392 | valid_auc: 0.63753 |  0:00:18s\n",
      "epoch 187| loss: 0.63094 | train_auc: 0.69672 | valid_auc: 0.64126 |  0:00:18s\n",
      "epoch 188| loss: 0.61335 | train_auc: 0.69746 | valid_auc: 0.64286 |  0:00:18s\n",
      "epoch 189| loss: 0.61477 | train_auc: 0.69705 | valid_auc: 0.64072 |  0:00:18s\n",
      "epoch 190| loss: 0.62835 | train_auc: 0.6976  | valid_auc: 0.63859 |  0:00:19s\n",
      "epoch 191| loss: 0.60093 | train_auc: 0.6984  | valid_auc: 0.63859 |  0:00:19s\n",
      "epoch 192| loss: 0.63404 | train_auc: 0.70016 | valid_auc: 0.63966 |  0:00:19s\n",
      "epoch 193| loss: 0.61377 | train_auc: 0.70129 | valid_auc: 0.63966 |  0:00:19s\n",
      "epoch 194| loss: 0.61903 | train_auc: 0.70112 | valid_auc: 0.63966 |  0:00:19s\n",
      "epoch 195| loss: 0.6412  | train_auc: 0.70085 | valid_auc: 0.64126 |  0:00:19s\n",
      "epoch 196| loss: 0.6145  | train_auc: 0.70157 | valid_auc: 0.64179 |  0:00:19s\n",
      "epoch 197| loss: 0.62085 | train_auc: 0.70324 | valid_auc: 0.64286 |  0:00:19s\n",
      "epoch 198| loss: 0.61844 | train_auc: 0.70334 | valid_auc: 0.64339 |  0:00:19s\n",
      "epoch 199| loss: 0.61423 | train_auc: 0.70402 | valid_auc: 0.64606 |  0:00:19s\n",
      "epoch 200| loss: 0.62127 | train_auc: 0.7056  | valid_auc: 0.64819 |  0:00:19s\n",
      "epoch 201| loss: 0.63517 | train_auc: 0.70586 | valid_auc: 0.64765 |  0:00:20s\n",
      "epoch 202| loss: 0.61899 | train_auc: 0.70753 | valid_auc: 0.64552 |  0:00:20s\n",
      "epoch 203| loss: 0.589   | train_auc: 0.70777 | valid_auc: 0.64552 |  0:00:20s\n",
      "epoch 204| loss: 0.61943 | train_auc: 0.70929 | valid_auc: 0.63859 |  0:00:20s\n",
      "epoch 205| loss: 0.63426 | train_auc: 0.71114 | valid_auc: 0.63859 |  0:00:20s\n",
      "epoch 206| loss: 0.61003 | train_auc: 0.71261 | valid_auc: 0.63646 |  0:00:20s\n",
      "epoch 207| loss: 0.58001 | train_auc: 0.71301 | valid_auc: 0.63699 |  0:00:20s\n",
      "epoch 208| loss: 0.61677 | train_auc: 0.71335 | valid_auc: 0.63646 |  0:00:20s\n",
      "epoch 209| loss: 0.61667 | train_auc: 0.71498 | valid_auc: 0.63699 |  0:00:20s\n",
      "epoch 210| loss: 0.61685 | train_auc: 0.71593 | valid_auc: 0.63273 |  0:00:20s\n"
     ]
    },
    {
     "name": "stdout",
     "output_type": "stream",
     "text": [
      "epoch 211| loss: 0.59173 | train_auc: 0.71481 | valid_auc: 0.63273 |  0:00:21s\n",
      "epoch 212| loss: 0.59153 | train_auc: 0.71506 | valid_auc: 0.63273 |  0:00:21s\n",
      "epoch 213| loss: 0.60921 | train_auc: 0.71639 | valid_auc: 0.63539 |  0:00:21s\n",
      "epoch 214| loss: 0.61612 | train_auc: 0.71842 | valid_auc: 0.63806 |  0:00:21s\n",
      "epoch 215| loss: 0.59058 | train_auc: 0.71956 | valid_auc: 0.63539 |  0:00:21s\n",
      "epoch 216| loss: 0.60639 | train_auc: 0.7207  | valid_auc: 0.6338  |  0:00:21s\n",
      "epoch 217| loss: 0.60112 | train_auc: 0.72135 | valid_auc: 0.63486 |  0:00:21s\n",
      "epoch 218| loss: 0.59969 | train_auc: 0.72294 | valid_auc: 0.63806 |  0:00:21s\n",
      "epoch 219| loss: 0.60936 | train_auc: 0.72133 | valid_auc: 0.63593 |  0:00:21s\n",
      "epoch 220| loss: 0.60694 | train_auc: 0.72077 | valid_auc: 0.63699 |  0:00:21s\n",
      "\n",
      "Early stopping occurred at epoch 220 with best_epoch = 200 and best_valid_auc = 0.64819\n",
      "epoch 0  | loss: 1.12169 | train_auc: 0.49059 | valid_auc: 0.41205 |  0:00:00s\n"
     ]
    },
    {
     "name": "stderr",
     "output_type": "stream",
     "text": [
      "/Users/nazaraburas/Desktop/dl_project/TabSec/pytorch_tabnet/callbacks.py:172: UserWarning: Best weights from best epoch are automatically used!\n",
      "  warnings.warn(wrn_msg)\n"
     ]
    },
    {
     "name": "stdout",
     "output_type": "stream",
     "text": [
      "epoch 1  | loss: 1.11225 | train_auc: 0.52627 | valid_auc: 0.43017 |  0:00:00s\n",
      "epoch 2  | loss: 1.02725 | train_auc: 0.53272 | valid_auc: 0.45416 |  0:00:00s\n",
      "epoch 3  | loss: 0.95978 | train_auc: 0.5317  | valid_auc: 0.46482 |  0:00:00s\n",
      "epoch 4  | loss: 0.95134 | train_auc: 0.52825 | valid_auc: 0.46802 |  0:00:00s\n",
      "epoch 5  | loss: 0.95533 | train_auc: 0.53019 | valid_auc: 0.47228 |  0:00:00s\n",
      "epoch 6  | loss: 0.96258 | train_auc: 0.53373 | valid_auc: 0.48134 |  0:00:00s\n",
      "epoch 7  | loss: 0.91441 | train_auc: 0.53673 | valid_auc: 0.49627 |  0:00:00s\n",
      "epoch 8  | loss: 0.93052 | train_auc: 0.5393  | valid_auc: 0.50533 |  0:00:00s\n",
      "epoch 9  | loss: 0.85057 | train_auc: 0.54247 | valid_auc: 0.51812 |  0:00:01s\n",
      "epoch 10 | loss: 0.84792 | train_auc: 0.54479 | valid_auc: 0.52665 |  0:00:01s\n",
      "epoch 11 | loss: 0.80767 | train_auc: 0.54851 | valid_auc: 0.52985 |  0:00:01s\n",
      "epoch 12 | loss: 0.82005 | train_auc: 0.54813 | valid_auc: 0.53785 |  0:00:01s\n",
      "epoch 13 | loss: 0.84791 | train_auc: 0.55138 | valid_auc: 0.54051 |  0:00:01s\n",
      "epoch 14 | loss: 0.82304 | train_auc: 0.55553 | valid_auc: 0.53891 |  0:00:01s\n",
      "epoch 15 | loss: 0.78944 | train_auc: 0.55823 | valid_auc: 0.54211 |  0:00:01s\n",
      "epoch 16 | loss: 0.76985 | train_auc: 0.56149 | valid_auc: 0.54318 |  0:00:01s\n",
      "epoch 17 | loss: 0.74941 | train_auc: 0.5637  | valid_auc: 0.54371 |  0:00:01s\n",
      "epoch 18 | loss: 0.78251 | train_auc: 0.56435 | valid_auc: 0.54318 |  0:00:01s\n",
      "epoch 19 | loss: 0.76204 | train_auc: 0.56562 | valid_auc: 0.54051 |  0:00:02s\n",
      "epoch 20 | loss: 0.7982  | train_auc: 0.56657 | valid_auc: 0.54424 |  0:00:02s\n",
      "epoch 21 | loss: 0.76652 | train_auc: 0.5675  | valid_auc: 0.54638 |  0:00:02s\n",
      "epoch 22 | loss: 0.79776 | train_auc: 0.56708 | valid_auc: 0.54797 |  0:00:02s\n",
      "epoch 23 | loss: 0.75516 | train_auc: 0.56621 | valid_auc: 0.54531 |  0:00:02s\n",
      "epoch 24 | loss: 0.70911 | train_auc: 0.5679  | valid_auc: 0.54264 |  0:00:02s\n",
      "epoch 25 | loss: 0.77644 | train_auc: 0.56939 | valid_auc: 0.54531 |  0:00:02s\n",
      "epoch 26 | loss: 0.75636 | train_auc: 0.56974 | valid_auc: 0.54904 |  0:00:02s\n",
      "epoch 27 | loss: 0.74747 | train_auc: 0.57026 | valid_auc: 0.54851 |  0:00:02s\n",
      "epoch 28 | loss: 0.72202 | train_auc: 0.57168 | valid_auc: 0.55277 |  0:00:02s\n",
      "epoch 29 | loss: 0.74002 | train_auc: 0.57143 | valid_auc: 0.54904 |  0:00:03s\n",
      "epoch 30 | loss: 0.72853 | train_auc: 0.57087 | valid_auc: 0.54957 |  0:00:03s\n",
      "epoch 31 | loss: 0.72945 | train_auc: 0.57246 | valid_auc: 0.54531 |  0:00:03s\n",
      "epoch 32 | loss: 0.71625 | train_auc: 0.57328 | valid_auc: 0.54158 |  0:00:03s\n",
      "epoch 33 | loss: 0.70735 | train_auc: 0.57399 | valid_auc: 0.54691 |  0:00:03s\n",
      "epoch 34 | loss: 0.71195 | train_auc: 0.57391 | valid_auc: 0.54264 |  0:00:03s\n",
      "epoch 35 | loss: 0.70697 | train_auc: 0.57511 | valid_auc: 0.55064 |  0:00:03s\n",
      "epoch 36 | loss: 0.70404 | train_auc: 0.57597 | valid_auc: 0.54478 |  0:00:03s\n",
      "epoch 37 | loss: 0.72833 | train_auc: 0.57788 | valid_auc: 0.54264 |  0:00:03s\n",
      "epoch 38 | loss: 0.71137 | train_auc: 0.57921 | valid_auc: 0.54104 |  0:00:03s\n",
      "epoch 39 | loss: 0.71355 | train_auc: 0.57894 | valid_auc: 0.54211 |  0:00:03s\n",
      "epoch 40 | loss: 0.71867 | train_auc: 0.58004 | valid_auc: 0.54318 |  0:00:04s\n",
      "epoch 41 | loss: 0.70646 | train_auc: 0.5816  | valid_auc: 0.54531 |  0:00:04s\n",
      "epoch 42 | loss: 0.70165 | train_auc: 0.57983 | valid_auc: 0.54797 |  0:00:04s\n",
      "epoch 43 | loss: 0.69322 | train_auc: 0.58248 | valid_auc: 0.5613  |  0:00:04s\n",
      "epoch 44 | loss: 0.70168 | train_auc: 0.58205 | valid_auc: 0.5597  |  0:00:04s\n",
      "epoch 45 | loss: 0.70848 | train_auc: 0.58097 | valid_auc: 0.55384 |  0:00:04s\n",
      "epoch 46 | loss: 0.69124 | train_auc: 0.57888 | valid_auc: 0.55171 |  0:00:04s\n",
      "epoch 47 | loss: 0.69814 | train_auc: 0.57967 | valid_auc: 0.54797 |  0:00:04s\n",
      "epoch 48 | loss: 0.68256 | train_auc: 0.57995 | valid_auc: 0.55384 |  0:00:04s\n",
      "epoch 49 | loss: 0.70374 | train_auc: 0.58259 | valid_auc: 0.5565  |  0:00:04s\n",
      "epoch 50 | loss: 0.69714 | train_auc: 0.5827  | valid_auc: 0.5597  |  0:00:05s\n",
      "epoch 51 | loss: 0.69376 | train_auc: 0.58329 | valid_auc: 0.56077 |  0:00:05s\n",
      "epoch 52 | loss: 0.68977 | train_auc: 0.58461 | valid_auc: 0.56663 |  0:00:05s\n",
      "epoch 53 | loss: 0.71085 | train_auc: 0.58614 | valid_auc: 0.56983 |  0:00:05s\n",
      "epoch 54 | loss: 0.71337 | train_auc: 0.5869  | valid_auc: 0.5661  |  0:00:05s\n",
      "epoch 55 | loss: 0.67634 | train_auc: 0.58815 | valid_auc: 0.5677  |  0:00:05s\n",
      "epoch 56 | loss: 0.68865 | train_auc: 0.58831 | valid_auc: 0.5709  |  0:00:05s\n",
      "epoch 57 | loss: 0.67023 | train_auc: 0.58959 | valid_auc: 0.56823 |  0:00:05s\n",
      "epoch 58 | loss: 0.68694 | train_auc: 0.58968 | valid_auc: 0.56876 |  0:00:05s\n",
      "epoch 59 | loss: 0.69009 | train_auc: 0.59057 | valid_auc: 0.56823 |  0:00:05s\n",
      "epoch 60 | loss: 0.67025 | train_auc: 0.59123 | valid_auc: 0.56237 |  0:00:05s\n",
      "epoch 61 | loss: 0.6825  | train_auc: 0.59209 | valid_auc: 0.5645  |  0:00:06s\n",
      "epoch 62 | loss: 0.69527 | train_auc: 0.59224 | valid_auc: 0.56876 |  0:00:06s\n",
      "epoch 63 | loss: 0.68418 | train_auc: 0.59417 | valid_auc: 0.5629  |  0:00:06s\n",
      "epoch 64 | loss: 0.68653 | train_auc: 0.59627 | valid_auc: 0.57249 |  0:00:06s\n",
      "epoch 65 | loss: 0.69013 | train_auc: 0.59627 | valid_auc: 0.57036 |  0:00:06s\n",
      "epoch 66 | loss: 0.68621 | train_auc: 0.59696 | valid_auc: 0.57676 |  0:00:06s\n",
      "epoch 67 | loss: 0.67397 | train_auc: 0.59876 | valid_auc: 0.57409 |  0:00:06s\n",
      "epoch 68 | loss: 0.67407 | train_auc: 0.59985 | valid_auc: 0.57036 |  0:00:06s\n",
      "epoch 69 | loss: 0.68168 | train_auc: 0.602   | valid_auc: 0.56983 |  0:00:06s\n",
      "epoch 70 | loss: 0.69615 | train_auc: 0.60163 | valid_auc: 0.5677  |  0:00:06s\n",
      "epoch 71 | loss: 0.64743 | train_auc: 0.60294 | valid_auc: 0.57409 |  0:00:07s\n",
      "epoch 72 | loss: 0.66347 | train_auc: 0.60265 | valid_auc: 0.5709  |  0:00:07s\n",
      "epoch 73 | loss: 0.67164 | train_auc: 0.60366 | valid_auc: 0.57303 |  0:00:07s\n",
      "epoch 74 | loss: 0.67362 | train_auc: 0.60444 | valid_auc: 0.57942 |  0:00:07s\n",
      "epoch 75 | loss: 0.66805 | train_auc: 0.60441 | valid_auc: 0.57623 |  0:00:07s\n",
      "epoch 76 | loss: 0.67609 | train_auc: 0.60704 | valid_auc: 0.57676 |  0:00:07s\n",
      "epoch 77 | loss: 0.66915 | train_auc: 0.60937 | valid_auc: 0.57889 |  0:00:07s\n",
      "epoch 78 | loss: 0.66134 | train_auc: 0.61121 | valid_auc: 0.58102 |  0:00:07s\n",
      "epoch 79 | loss: 0.66049 | train_auc: 0.61293 | valid_auc: 0.58262 |  0:00:07s\n",
      "epoch 80 | loss: 0.67615 | train_auc: 0.61441 | valid_auc: 0.58422 |  0:00:07s\n",
      "epoch 81 | loss: 0.65755 | train_auc: 0.61571 | valid_auc: 0.58529 |  0:00:07s\n",
      "epoch 82 | loss: 0.68094 | train_auc: 0.61641 | valid_auc: 0.58582 |  0:00:08s\n",
      "epoch 83 | loss: 0.66271 | train_auc: 0.61899 | valid_auc: 0.58849 |  0:00:08s\n",
      "epoch 84 | loss: 0.65202 | train_auc: 0.62066 | valid_auc: 0.59328 |  0:00:08s\n",
      "epoch 85 | loss: 0.67247 | train_auc: 0.62127 | valid_auc: 0.59435 |  0:00:08s\n",
      "epoch 86 | loss: 0.66634 | train_auc: 0.62129 | valid_auc: 0.59115 |  0:00:08s\n",
      "epoch 87 | loss: 0.65121 | train_auc: 0.62235 | valid_auc: 0.59115 |  0:00:08s\n",
      "epoch 88 | loss: 0.66376 | train_auc: 0.62388 | valid_auc: 0.59435 |  0:00:08s\n",
      "epoch 89 | loss: 0.67178 | train_auc: 0.62544 | valid_auc: 0.59542 |  0:00:08s\n",
      "epoch 90 | loss: 0.66486 | train_auc: 0.62728 | valid_auc: 0.59542 |  0:00:08s\n",
      "epoch 91 | loss: 0.67736 | train_auc: 0.6293  | valid_auc: 0.59648 |  0:00:09s\n",
      "epoch 92 | loss: 0.64893 | train_auc: 0.63123 | valid_auc: 0.58849 |  0:00:09s\n",
      "epoch 93 | loss: 0.64613 | train_auc: 0.63161 | valid_auc: 0.58529 |  0:00:09s\n",
      "epoch 94 | loss: 0.65457 | train_auc: 0.63259 | valid_auc: 0.58316 |  0:00:09s\n",
      "epoch 95 | loss: 0.65295 | train_auc: 0.63257 | valid_auc: 0.59009 |  0:00:09s\n",
      "epoch 96 | loss: 0.66714 | train_auc: 0.63289 | valid_auc: 0.59222 |  0:00:09s\n",
      "epoch 97 | loss: 0.65126 | train_auc: 0.63303 | valid_auc: 0.59595 |  0:00:09s\n",
      "epoch 98 | loss: 0.64559 | train_auc: 0.63534 | valid_auc: 0.59595 |  0:00:09s\n",
      "epoch 99 | loss: 0.65944 | train_auc: 0.63574 | valid_auc: 0.59808 |  0:00:09s\n",
      "epoch 100| loss: 0.66159 | train_auc: 0.63638 | valid_auc: 0.60341 |  0:00:09s\n",
      "epoch 101| loss: 0.64366 | train_auc: 0.63673 | valid_auc: 0.59595 |  0:00:10s\n",
      "epoch 102| loss: 0.6455  | train_auc: 0.63696 | valid_auc: 0.59861 |  0:00:10s\n",
      "epoch 103| loss: 0.64397 | train_auc: 0.63807 | valid_auc: 0.59755 |  0:00:10s\n",
      "epoch 104| loss: 0.66367 | train_auc: 0.63726 | valid_auc: 0.60181 |  0:00:10s\n"
     ]
    },
    {
     "name": "stdout",
     "output_type": "stream",
     "text": [
      "epoch 105| loss: 0.63714 | train_auc: 0.63889 | valid_auc: 0.60235 |  0:00:10s\n",
      "epoch 106| loss: 0.65534 | train_auc: 0.64    | valid_auc: 0.60181 |  0:00:10s\n",
      "epoch 107| loss: 0.65302 | train_auc: 0.6414  | valid_auc: 0.60128 |  0:00:10s\n",
      "epoch 108| loss: 0.65729 | train_auc: 0.64237 | valid_auc: 0.59808 |  0:00:10s\n",
      "epoch 109| loss: 0.65786 | train_auc: 0.64352 | valid_auc: 0.59915 |  0:00:10s\n",
      "epoch 110| loss: 0.6498  | train_auc: 0.64193 | valid_auc: 0.59488 |  0:00:10s\n",
      "epoch 111| loss: 0.66234 | train_auc: 0.6417  | valid_auc: 0.59808 |  0:00:10s\n",
      "epoch 112| loss: 0.63517 | train_auc: 0.64205 | valid_auc: 0.59648 |  0:00:11s\n",
      "epoch 113| loss: 0.65684 | train_auc: 0.64161 | valid_auc: 0.59701 |  0:00:11s\n",
      "epoch 114| loss: 0.67401 | train_auc: 0.64109 | valid_auc: 0.60181 |  0:00:11s\n",
      "epoch 115| loss: 0.63866 | train_auc: 0.64122 | valid_auc: 0.60501 |  0:00:11s\n",
      "epoch 116| loss: 0.64437 | train_auc: 0.64264 | valid_auc: 0.60608 |  0:00:11s\n",
      "epoch 117| loss: 0.63941 | train_auc: 0.64261 | valid_auc: 0.60661 |  0:00:11s\n",
      "epoch 118| loss: 0.65528 | train_auc: 0.6429  | valid_auc: 0.60554 |  0:00:11s\n",
      "epoch 119| loss: 0.64323 | train_auc: 0.64408 | valid_auc: 0.60821 |  0:00:11s\n",
      "epoch 120| loss: 0.6577  | train_auc: 0.64434 | valid_auc: 0.60608 |  0:00:11s\n",
      "epoch 121| loss: 0.6667  | train_auc: 0.646   | valid_auc: 0.60448 |  0:00:12s\n",
      "epoch 122| loss: 0.65692 | train_auc: 0.64757 | valid_auc: 0.60768 |  0:00:12s\n",
      "epoch 123| loss: 0.63369 | train_auc: 0.65033 | valid_auc: 0.60075 |  0:00:12s\n",
      "epoch 124| loss: 0.66159 | train_auc: 0.64991 | valid_auc: 0.60501 |  0:00:12s\n",
      "epoch 125| loss: 0.65229 | train_auc: 0.65052 | valid_auc: 0.60821 |  0:00:12s\n",
      "epoch 126| loss: 0.64686 | train_auc: 0.65068 | valid_auc: 0.60501 |  0:00:12s\n",
      "epoch 127| loss: 0.63574 | train_auc: 0.65245 | valid_auc: 0.60554 |  0:00:12s\n",
      "epoch 128| loss: 0.6533  | train_auc: 0.65365 | valid_auc: 0.60394 |  0:00:12s\n",
      "epoch 129| loss: 0.62957 | train_auc: 0.65296 | valid_auc: 0.60661 |  0:00:12s\n",
      "epoch 130| loss: 0.62949 | train_auc: 0.65405 | valid_auc: 0.60714 |  0:00:12s\n",
      "epoch 131| loss: 0.63665 | train_auc: 0.65597 | valid_auc: 0.60661 |  0:00:13s\n",
      "epoch 132| loss: 0.65041 | train_auc: 0.6569  | valid_auc: 0.60394 |  0:00:13s\n",
      "epoch 133| loss: 0.63758 | train_auc: 0.65692 | valid_auc: 0.60821 |  0:00:13s\n",
      "epoch 134| loss: 0.65059 | train_auc: 0.65881 | valid_auc: 0.59915 |  0:00:13s\n",
      "epoch 135| loss: 0.64485 | train_auc: 0.6593  | valid_auc: 0.61087 |  0:00:13s\n",
      "epoch 136| loss: 0.63045 | train_auc: 0.65904 | valid_auc: 0.61674 |  0:00:13s\n",
      "epoch 137| loss: 0.63979 | train_auc: 0.65944 | valid_auc: 0.60821 |  0:00:13s\n",
      "epoch 138| loss: 0.63826 | train_auc: 0.65869 | valid_auc: 0.61834 |  0:00:13s\n",
      "epoch 139| loss: 0.6246  | train_auc: 0.66074 | valid_auc: 0.61674 |  0:00:13s\n",
      "epoch 140| loss: 0.60498 | train_auc: 0.66082 | valid_auc: 0.62367 |  0:00:13s\n",
      "epoch 141| loss: 0.64494 | train_auc: 0.66134 | valid_auc: 0.61834 |  0:00:14s\n",
      "epoch 142| loss: 0.64066 | train_auc: 0.66178 | valid_auc: 0.61834 |  0:00:14s\n",
      "epoch 143| loss: 0.64839 | train_auc: 0.66238 | valid_auc: 0.61887 |  0:00:14s\n",
      "epoch 144| loss: 0.63432 | train_auc: 0.66312 | valid_auc: 0.61834 |  0:00:14s\n",
      "epoch 145| loss: 0.62257 | train_auc: 0.66327 | valid_auc: 0.6226  |  0:00:14s\n",
      "epoch 146| loss: 0.63524 | train_auc: 0.66431 | valid_auc: 0.62367 |  0:00:14s\n",
      "epoch 147| loss: 0.64007 | train_auc: 0.66508 | valid_auc: 0.62154 |  0:00:14s\n",
      "epoch 148| loss: 0.61873 | train_auc: 0.66489 | valid_auc: 0.62207 |  0:00:14s\n",
      "epoch 149| loss: 0.64567 | train_auc: 0.6654  | valid_auc: 0.62793 |  0:00:14s\n",
      "epoch 150| loss: 0.62866 | train_auc: 0.66555 | valid_auc: 0.63273 |  0:00:15s\n",
      "epoch 151| loss: 0.63034 | train_auc: 0.66531 | valid_auc: 0.63433 |  0:00:15s\n",
      "epoch 152| loss: 0.64883 | train_auc: 0.6648  | valid_auc: 0.63753 |  0:00:15s\n",
      "epoch 153| loss: 0.641   | train_auc: 0.66512 | valid_auc: 0.63913 |  0:00:15s\n",
      "epoch 154| loss: 0.62657 | train_auc: 0.66574 | valid_auc: 0.63539 |  0:00:15s\n",
      "epoch 155| loss: 0.62196 | train_auc: 0.66616 | valid_auc: 0.6322  |  0:00:15s\n",
      "epoch 156| loss: 0.62822 | train_auc: 0.66664 | valid_auc: 0.63966 |  0:00:15s\n",
      "epoch 157| loss: 0.64737 | train_auc: 0.66715 | valid_auc: 0.63539 |  0:00:15s\n",
      "epoch 158| loss: 0.62177 | train_auc: 0.66757 | valid_auc: 0.63326 |  0:00:16s\n",
      "epoch 159| loss: 0.61291 | train_auc: 0.66843 | valid_auc: 0.63699 |  0:00:16s\n",
      "epoch 160| loss: 0.65274 | train_auc: 0.66798 | valid_auc: 0.63699 |  0:00:16s\n",
      "epoch 161| loss: 0.62844 | train_auc: 0.66958 | valid_auc: 0.6322  |  0:00:16s\n",
      "epoch 162| loss: 0.64714 | train_auc: 0.67095 | valid_auc: 0.6338  |  0:00:16s\n",
      "epoch 163| loss: 0.62151 | train_auc: 0.67226 | valid_auc: 0.6274  |  0:00:16s\n",
      "epoch 164| loss: 0.61047 | train_auc: 0.67366 | valid_auc: 0.62527 |  0:00:16s\n",
      "epoch 165| loss: 0.63302 | train_auc: 0.67443 | valid_auc: 0.6306  |  0:00:16s\n",
      "epoch 166| loss: 0.65303 | train_auc: 0.67539 | valid_auc: 0.62793 |  0:00:16s\n",
      "epoch 167| loss: 0.63514 | train_auc: 0.67834 | valid_auc: 0.62793 |  0:00:16s\n",
      "epoch 168| loss: 0.63061 | train_auc: 0.67857 | valid_auc: 0.63433 |  0:00:17s\n",
      "epoch 169| loss: 0.62666 | train_auc: 0.67902 | valid_auc: 0.63166 |  0:00:17s\n",
      "epoch 170| loss: 0.61335 | train_auc: 0.67916 | valid_auc: 0.6322  |  0:00:17s\n",
      "epoch 171| loss: 0.62296 | train_auc: 0.68033 | valid_auc: 0.6338  |  0:00:17s\n",
      "epoch 172| loss: 0.60586 | train_auc: 0.67988 | valid_auc: 0.63806 |  0:00:17s\n",
      "epoch 173| loss: 0.61145 | train_auc: 0.68063 | valid_auc: 0.63486 |  0:00:17s\n",
      "epoch 174| loss: 0.60366 | train_auc: 0.68162 | valid_auc: 0.63913 |  0:00:17s\n",
      "epoch 175| loss: 0.63073 | train_auc: 0.68219 | valid_auc: 0.63753 |  0:00:17s\n",
      "epoch 176| loss: 0.61129 | train_auc: 0.68365 | valid_auc: 0.64179 |  0:00:17s\n",
      "epoch 177| loss: 0.62574 | train_auc: 0.68505 | valid_auc: 0.64126 |  0:00:17s\n",
      "epoch 178| loss: 0.6349  | train_auc: 0.68532 | valid_auc: 0.64179 |  0:00:17s\n",
      "epoch 179| loss: 0.62091 | train_auc: 0.68705 | valid_auc: 0.63753 |  0:00:18s\n",
      "epoch 180| loss: 0.61872 | train_auc: 0.6879  | valid_auc: 0.63966 |  0:00:18s\n",
      "epoch 181| loss: 0.61078 | train_auc: 0.69067 | valid_auc: 0.63806 |  0:00:18s\n",
      "epoch 182| loss: 0.63693 | train_auc: 0.69265 | valid_auc: 0.63753 |  0:00:18s\n",
      "epoch 183| loss: 0.61443 | train_auc: 0.6921  | valid_auc: 0.63593 |  0:00:18s\n",
      "epoch 184| loss: 0.62219 | train_auc: 0.69311 | valid_auc: 0.63753 |  0:00:18s\n",
      "epoch 185| loss: 0.605   | train_auc: 0.694   | valid_auc: 0.63913 |  0:00:18s\n",
      "epoch 186| loss: 0.59798 | train_auc: 0.69392 | valid_auc: 0.63753 |  0:00:18s\n",
      "epoch 187| loss: 0.63094 | train_auc: 0.69672 | valid_auc: 0.64126 |  0:00:18s\n",
      "epoch 188| loss: 0.61335 | train_auc: 0.69746 | valid_auc: 0.64286 |  0:00:19s\n",
      "epoch 189| loss: 0.61477 | train_auc: 0.69705 | valid_auc: 0.64072 |  0:00:19s\n",
      "epoch 190| loss: 0.62835 | train_auc: 0.6976  | valid_auc: 0.63859 |  0:00:19s\n",
      "epoch 191| loss: 0.60093 | train_auc: 0.6984  | valid_auc: 0.63859 |  0:00:19s\n",
      "epoch 192| loss: 0.63404 | train_auc: 0.70016 | valid_auc: 0.63966 |  0:00:19s\n",
      "epoch 193| loss: 0.61377 | train_auc: 0.70129 | valid_auc: 0.63966 |  0:00:19s\n",
      "epoch 194| loss: 0.61903 | train_auc: 0.70112 | valid_auc: 0.63966 |  0:00:19s\n",
      "epoch 195| loss: 0.6412  | train_auc: 0.70085 | valid_auc: 0.64126 |  0:00:19s\n",
      "epoch 196| loss: 0.6145  | train_auc: 0.70157 | valid_auc: 0.64179 |  0:00:19s\n",
      "epoch 197| loss: 0.62085 | train_auc: 0.70324 | valid_auc: 0.64286 |  0:00:19s\n",
      "epoch 198| loss: 0.61844 | train_auc: 0.70334 | valid_auc: 0.64339 |  0:00:20s\n",
      "epoch 199| loss: 0.61423 | train_auc: 0.70402 | valid_auc: 0.64606 |  0:00:20s\n",
      "epoch 200| loss: 0.62127 | train_auc: 0.7056  | valid_auc: 0.64819 |  0:00:20s\n",
      "epoch 201| loss: 0.63517 | train_auc: 0.70586 | valid_auc: 0.64765 |  0:00:20s\n",
      "epoch 202| loss: 0.61899 | train_auc: 0.70753 | valid_auc: 0.64552 |  0:00:20s\n",
      "epoch 203| loss: 0.589   | train_auc: 0.70777 | valid_auc: 0.64552 |  0:00:20s\n",
      "epoch 204| loss: 0.61943 | train_auc: 0.70929 | valid_auc: 0.63859 |  0:00:20s\n",
      "epoch 205| loss: 0.63426 | train_auc: 0.71114 | valid_auc: 0.63859 |  0:00:20s\n",
      "epoch 206| loss: 0.61003 | train_auc: 0.71261 | valid_auc: 0.63646 |  0:00:20s\n",
      "epoch 207| loss: 0.58001 | train_auc: 0.71301 | valid_auc: 0.63699 |  0:00:20s\n",
      "epoch 208| loss: 0.61677 | train_auc: 0.71335 | valid_auc: 0.63646 |  0:00:21s\n",
      "epoch 209| loss: 0.61667 | train_auc: 0.71498 | valid_auc: 0.63699 |  0:00:21s\n"
     ]
    },
    {
     "name": "stdout",
     "output_type": "stream",
     "text": [
      "epoch 210| loss: 0.61685 | train_auc: 0.71593 | valid_auc: 0.63273 |  0:00:21s\n",
      "epoch 211| loss: 0.59173 | train_auc: 0.71481 | valid_auc: 0.63273 |  0:00:21s\n",
      "epoch 212| loss: 0.59153 | train_auc: 0.71506 | valid_auc: 0.63273 |  0:00:21s\n",
      "epoch 213| loss: 0.60921 | train_auc: 0.71639 | valid_auc: 0.63539 |  0:00:21s\n",
      "epoch 214| loss: 0.61612 | train_auc: 0.71842 | valid_auc: 0.63806 |  0:00:21s\n",
      "epoch 215| loss: 0.59058 | train_auc: 0.71956 | valid_auc: 0.63539 |  0:00:21s\n",
      "epoch 216| loss: 0.60639 | train_auc: 0.7207  | valid_auc: 0.6338  |  0:00:21s\n",
      "epoch 217| loss: 0.60112 | train_auc: 0.72135 | valid_auc: 0.63486 |  0:00:21s\n",
      "epoch 218| loss: 0.59969 | train_auc: 0.72294 | valid_auc: 0.63806 |  0:00:21s\n",
      "epoch 219| loss: 0.60936 | train_auc: 0.72133 | valid_auc: 0.63593 |  0:00:22s\n",
      "epoch 220| loss: 0.60694 | train_auc: 0.72077 | valid_auc: 0.63699 |  0:00:22s\n",
      "\n",
      "Early stopping occurred at epoch 220 with best_epoch = 200 and best_valid_auc = 0.64819\n"
     ]
    },
    {
     "name": "stderr",
     "output_type": "stream",
     "text": [
      "/Users/nazaraburas/Desktop/dl_project/TabSec/pytorch_tabnet/callbacks.py:172: UserWarning: Best weights from best epoch are automatically used!\n",
      "  warnings.warn(wrn_msg)\n"
     ]
    }
   ],
   "source": [
    "## This illustrates the warm_start=False behaviour\n",
    "save_history = []\n",
    "for _ in range(2):\n",
    "    clf.fit(\n",
    "        X_train=X_train, y_train=y_train,\n",
    "        eval_set=[(X_train, y_train), (X_valid, y_valid)],\n",
    "        eval_name=['train', 'valid'],\n",
    "        eval_metric=['auc'],\n",
    "        max_epochs=max_epochs , patience=20,\n",
    "        batch_size=1024, virtual_batch_size=128,\n",
    "        num_workers=0,\n",
    "        weights=1,\n",
    "        drop_last=False,\n",
    "        augmentations=aug, #aug, None\n",
    "    )\n",
    "    save_history.append(clf.history[\"valid_auc\"])\n",
    "\n",
    "assert(np.all(np.array(save_history[0]==np.array(save_history[1]))))"
   ]
  },
  {
   "cell_type": "code",
   "execution_count": 13,
   "metadata": {},
   "outputs": [
    {
     "name": "stdout",
     "output_type": "stream",
     "text": [
      "BEST VALID SCORE FOR credit-g : 0.6481876332622601\n",
      "FINAL TEST SCORE FOR credit-g : 0.6241426611796982\n"
     ]
    }
   ],
   "source": [
    "preds = clf.predict_proba(X_test)\n",
    "test_auc = roc_auc_score(y_score=preds[:,1], y_true=y_test)\n",
    "\n",
    "\n",
    "preds_valid = clf.predict_proba(X_valid)\n",
    "valid_auc = roc_auc_score(y_score=preds_valid[:,1], y_true=y_valid)\n",
    "\n",
    "print(f\"BEST VALID SCORE FOR {dataset_name} : {clf.best_cost}\")\n",
    "print(f\"FINAL TEST SCORE FOR {dataset_name} : {test_auc}\")"
   ]
  },
  {
   "cell_type": "code",
   "execution_count": 14,
   "metadata": {},
   "outputs": [
    {
     "name": "stdout",
     "output_type": "stream",
     "text": [
      "Successfully saved model at ./tabnet_model_test_credit_g.zip\n"
     ]
    }
   ],
   "source": [
    "# save tabnet model\n",
    "saving_path_name = \"./tabnet_model_test_credit_g\"\n",
    "saved_filepath = clf.save_model(saving_path_name)"
   ]
  },
  {
   "cell_type": "code",
   "execution_count": 15,
   "metadata": {},
   "outputs": [
    {
     "name": "stderr",
     "output_type": "stream",
     "text": [
      "/Users/nazaraburas/Desktop/dl_project/TabSec/pytorch_tabnet/abstract_model.py:75: UserWarning: Device used : cpu\n",
      "  warnings.warn(f\"Device used : {self.device}\")\n"
     ]
    }
   ],
   "source": [
    "# define new model with basic parameters and load state dict weights\n",
    "loaded_clf = TabNetClassifier()\n",
    "loaded_clf.load_model(\"./tabnet_model_test_credit_g.zip\")"
   ]
  },
  {
   "cell_type": "markdown",
   "metadata": {},
   "source": [
    "# Predictions"
   ]
  },
  {
   "cell_type": "code",
   "execution_count": 16,
   "metadata": {},
   "outputs": [
    {
     "name": "stdout",
     "output_type": "stream",
     "text": [
      "TabNet\n",
      "BEST VALID SCORE FOR credit-g : 0.6481876332622601\n",
      "FINAL TEST SCORE FOR credit-g : 0.6241426611796982\n"
     ]
    }
   ],
   "source": [
    "dataset_name = 'credit-g'\n",
    "\n",
    "preds = clf.predict_proba(X_test)\n",
    "test_auc = roc_auc_score(y_score=preds[:,1], y_true=y_test)\n",
    "\n",
    "\n",
    "preds_valid = clf.predict_proba(X_valid)\n",
    "valid_auc = roc_auc_score(y_score=preds_valid[:,1], y_true=y_valid)\n",
    "\n",
    "print(\"TabNet\")\n",
    "print(f\"BEST VALID SCORE FOR {dataset_name} : {clf.best_cost}\")\n",
    "print(f\"FINAL TEST SCORE FOR {dataset_name} : {test_auc}\")"
   ]
  },
  {
   "cell_type": "code",
   "execution_count": 17,
   "metadata": {},
   "outputs": [],
   "source": [
    "# check that best weights are used\n",
    "assert np.isclose(valid_auc, np.max(clf.history['valid_auc']), atol=1e-6)"
   ]
  },
  {
   "cell_type": "code",
   "execution_count": 19,
   "metadata": {},
   "outputs": [
    {
     "data": {
      "text/plain": [
       "array([1, 1, 1, 0, 0, 0, 0, 0, 0, 1, 1, 1, 1, 1, 1, 1, 0, 1, 1, 0, 1, 1,\n",
       "       1, 1, 0, 0, 1, 0, 0, 0, 0, 1, 1, 1, 0, 1, 0, 1, 0, 0, 1, 1, 1, 0,\n",
       "       1, 1, 0, 1, 1, 0, 1, 1, 0, 1, 0, 1, 1, 1, 0, 1, 1, 1, 1, 1, 0, 0,\n",
       "       1, 1, 0, 0, 0, 1, 1, 0, 0, 1, 1, 0, 0, 1, 0, 0, 1, 0, 0, 0, 0, 1,\n",
       "       0, 1, 1, 0, 0, 0, 1, 0, 1, 0, 1, 1, 1, 0, 0, 0, 1, 1, 1, 0])"
      ]
     },
     "execution_count": 19,
     "metadata": {},
     "output_type": "execute_result"
    }
   ],
   "source": [
    "# sanity check\n",
    "clf.predict(X_test)"
   ]
  },
  {
   "cell_type": "code",
   "execution_count": 20,
   "metadata": {},
   "outputs": [
    {
     "name": "stdout",
     "output_type": "stream",
     "text": [
      "Successfully saved model at ./tabnet_model_credit_test_1.zip\n"
     ]
    }
   ],
   "source": [
    "# save tabnet model\n",
    "saving_path_name = \"./tabnet_model_credit_test_1\"\n",
    "saved_filepath = clf.save_model(saving_path_name)"
   ]
  },
  {
   "cell_type": "code",
   "execution_count": 21,
   "metadata": {},
   "outputs": [
    {
     "name": "stdout",
     "output_type": "stream",
     "text": [
      "FINAL TEST SCORE FOR credit-g : 0.6241426611796982\n"
     ]
    }
   ],
   "source": [
    "loaded_preds = loaded_clf.predict_proba(X_test)\n",
    "loaded_test_auc = roc_auc_score(y_score=loaded_preds[:,1], y_true=y_test)\n",
    "\n",
    "print(f\"FINAL TEST SCORE FOR {dataset_name} : {loaded_test_auc}\")"
   ]
  },
  {
   "cell_type": "code",
   "execution_count": 34,
   "metadata": {},
   "outputs": [
    {
     "data": {
      "text/plain": [
       "array([1, 1, 1, 0, 0, 0, 0, 0, 0, 1, 1, 1, 1, 1, 1, 1, 0, 1, 1, 0, 1, 1,\n",
       "       1, 1, 0, 0, 1, 0, 0, 0, 0, 1, 1, 1, 0, 1, 0, 1, 0, 0, 1, 1, 1, 0,\n",
       "       1, 1, 0, 1, 1, 0, 1, 1, 0, 1, 0, 1, 1, 1, 0, 1, 1, 1, 1, 1, 0, 0,\n",
       "       1, 1, 0, 0, 0, 1, 1, 0, 0, 1, 1, 0, 0, 1, 0, 0, 1, 0, 0, 0, 0, 1,\n",
       "       0, 1, 1, 0, 0, 0, 1, 0, 1, 0, 1, 1, 1, 0, 0, 0, 1, 1, 1, 0])"
      ]
     },
     "execution_count": 34,
     "metadata": {},
     "output_type": "execute_result"
    }
   ],
   "source": [
    "loaded_clf.predict(X_test)"
   ]
  },
  {
   "cell_type": "markdown",
   "metadata": {},
   "source": [
    "# Generate Adversarial Examples"
   ]
  },
  {
   "cell_type": "code",
   "execution_count": 53,
   "metadata": {},
   "outputs": [
    {
     "data": {
      "text/plain": [
       "array([1, 1, 1, 0, 1, 0, 0, 0, 1, 0])"
      ]
     },
     "execution_count": 53,
     "metadata": {},
     "output_type": "execute_result"
    }
   ],
   "source": [
    "SEED = 11\n",
    "\n",
    "settings = {'MaxIters': 500,\n",
    "            'Alpha': 0.1,\n",
    "            'Lambda': 8.5}\n",
    "\n",
    "#settings['TestData'] = train[features].iloc[list(test_indices)]\n",
    "settings['TestData'] = train.iloc[list(test_indices)]\n",
    "settings['TestData'] = settings['TestData'].sample(n=10, random_state=SEED)\n",
    "settings['TestDataOrig'] = settings['TestData']\n",
    "settings['TestData'] = settings['TestData'][features]\n",
    "\n",
    "# Sub sample\n",
    "\n",
    "settings['Target'] = target\n",
    "settings['FeatureNames'] = features\n",
    "settings['Weights'] = weights\n",
    "settings['Bounds'] = bounds\n",
    "\n",
    "\n",
    "loaded_clf.predict(settings['TestData'].values)\n"
   ]
  },
  {
   "cell_type": "code",
   "execution_count": 54,
   "metadata": {},
   "outputs": [],
   "source": [
    "def gen_adv(model, config, method):\n",
    "    extra_cols = ['orig_pred', 'adv_pred', 'iters']\n",
    "    df_test = config['TestData']\n",
    "    feature_names = config['FeatureNames']\n",
    "    weights = config['Weights']\n",
    "    bounds = config['Bounds']\n",
    "    maxiters = config['MaxIters']\n",
    "    alpha = config['Alpha']\n",
    "    lambda_ = config['Lambda']\n",
    "    target = config['Target']\n",
    "    \n",
    "    results = np.zeros((len(df_test), len(feature_names) + 1))\n",
    "            \n",
    "    i = -1\n",
    "    n_samples = 0\n",
    "    n_success = 0\n",
    "    pert_norms = []\n",
    "    weighted_pert_norms = []\n",
    "    \n",
    "    \n",
    "    for _, row in tqdm(df_test.iterrows(), total=df_test.shape[0], desc=\"{}\".format(method)):\n",
    "        i += 1\n",
    "        \n",
    "        #x_tensor = torch.DoubleTensor(row[config['FeatureNames']])\n",
    "        #x_tensor = torch.DoubleTensor(row.values)\n",
    "        x_tensor = row.values\n",
    "        \n",
    "        n_samples += 1\n",
    "        \n",
    "        if method == 'LowProFool':\n",
    "            orig_pred, adv_pred, x_adv, loop_i = lowProFool(x_tensor, model, weights, bounds,\n",
    "                                                             maxiters, alpha, lambda_)\n",
    "        elif method == 'Deepfool':\n",
    "            x_tensor = torch.tensor(x_tensor)\n",
    "            orig_pred, adv_pred, x_adv, loop_i = deepfool(x_tensor, model, maxiters, alpha,\n",
    "                                                          bounds, weights=[])\n",
    "        else:\n",
    "            raise Exception(\"Invalid method\", method)\n",
    "\n",
    "        #pert = x_adv - x_tensor.numpy()\n",
    "        pert = x_adv - x_tensor\n",
    "\n",
    "        if orig_pred != adv_pred:\n",
    "            n_success += 1\n",
    "            pert_norms.append(np.linalg.norm(pert))\n",
    "            weighted_pert_norms.append(np.linalg.norm(weights * pert))\n",
    "\n",
    "        results[i] = np.append(x_adv, orig_pred)\n",
    "    df = pd.DataFrame(results, index=df_test.index, columns=feature_names + [target])\n",
    "    return df, n_success/n_samples, np.mean(weighted_pert_norms), np.std(weighted_pert_norms),\\\n",
    "                                    np.mean(pert_norms), np.std(pert_norms)\n",
    "\n",
    "\n",
    "# Clipping function\n",
    "def clip(current, low_bound, up_bound):\n",
    "    assert(len(current) == len(up_bound) and len(low_bound) == len(up_bound))\n",
    "    low_bound = torch.FloatTensor(low_bound)\n",
    "    up_bound = torch.FloatTensor(up_bound)\n",
    "    clipped = torch.max(torch.min(current, up_bound), low_bound)\n",
    "    return clipped"
   ]
  },
  {
   "cell_type": "markdown",
   "metadata": {},
   "source": [
    "# LowProFool"
   ]
  },
  {
   "cell_type": "code",
   "execution_count": 55,
   "metadata": {},
   "outputs": [],
   "source": [
    "def lowProFool(x, model, weights, bounds, maxiters, alpha, lambda_):\n",
    "    \"\"\"\n",
    "    Generates an adversarial examples x' from an original sample x\n",
    "\n",
    "    :param x: tabular sample\n",
    "    :param model: neural network\n",
    "    :param weights: feature importance vector associated with the dataset at hand\n",
    "    :param bounds: bounds of the datasets with respect to each feature\n",
    "    :param maxiters: maximum number of iterations ran to generate the adversarial examples\n",
    "    :param alpha: scaling factor used to control the growth of the perturbation\n",
    "    :param lambda_: trade off factor between fooling the classifier and generating imperceptible adversarial example\n",
    "    :return: original label prediction, final label prediction, adversarial examples x', iteration at which the class changed\n",
    "    \"\"\"\n",
    "\n",
    "    r = Variable(torch.FloatTensor(1e-4 * np.ones(x.shape)), requires_grad=True) \n",
    "    v = torch.FloatTensor(np.array(weights))\n",
    "    \n",
    "    x_into_model = np.expand_dims(x, axis=0)\n",
    "    x = torch.tensor(x)\n",
    "\n",
    "    output = model.predict_proba(x_into_model) #outputs -> numpy array [[x, 1-x]]\n",
    "    output = Variable(torch.tensor(output[0]), requires_grad=True)\n",
    "    \n",
    "    orig_pred = output.max(0, keepdim=True)[1].cpu().numpy()\n",
    "    target_pred = np.abs(1 - orig_pred)\n",
    "    \n",
    "    target = np.array([0., 1.]) if target_pred == 1 else np.array([1., 0.])\n",
    "    target = Variable(torch.tensor(target, requires_grad=False)) \n",
    "    \n",
    "    lambda_ = torch.tensor([lambda_])\n",
    "    \n",
    "    bce = nn.BCELoss()\n",
    "    l1 = lambda v, r: torch.sum(torch.abs(v * r)) #L1 norm\n",
    "    l2 = lambda v, r: torch.sqrt(torch.sum(torch.mul(v * r,v * r))) #L2 norm\n",
    "\n",
    "    best_norm_weighted = np.inf\n",
    "    best_pert_x = x\n",
    "    \n",
    "    loop_i, loop_change_class = 0, 0\n",
    "    while loop_i < maxiters: \n",
    "        if r.grad is not None:\n",
    "            r.grad.zero_()\n",
    "            \n",
    "        # make sure same type tensors\n",
    "        output = output.type(torch.FloatTensor)\n",
    "        target = target.type(torch.FloatTensor)\n",
    "        \n",
    "        # Computing loss\n",
    "        loss_1 = bce(output, target)\n",
    "        loss_2 = l2(v, r)\n",
    "        loss = (loss_1 + lambda_ * loss_2)\n",
    "\n",
    "        # Get the gradient\n",
    "        loss.backward(retain_graph=True)\n",
    "        grad_r = r.grad.data.cpu().numpy().copy()\n",
    "\n",
    "        # Guide perturbation to the negative of the gradient\n",
    "        ri = - grad_r\n",
    "    \n",
    "        # limit huge step\n",
    "        ri *= alpha\n",
    "\n",
    "        # Adds new perturbation to total perturbation\n",
    "        r = r.clone().detach().cpu().numpy() + ri\n",
    "        \n",
    "        # For later computation\n",
    "        r_norm_weighted = np.sum(np.abs(r * weights))\n",
    "        \n",
    "        # Ready to feed the model\n",
    "        r = Variable(torch.FloatTensor(r), requires_grad=True) \n",
    "        \n",
    "        # Compute adversarial example\n",
    "        xprime = x + r\n",
    "    \n",
    "        # Clip to stay in legitimate bounds\n",
    "        xprime = clip(xprime, bounds[0], bounds[1])\n",
    "        \n",
    "        # model expects input of form [x1]\n",
    "        xprime_into_model = torch.unsqueeze(xprime, 0)\n",
    "        \n",
    "        # Classify adversarial example\n",
    "        output = model.predict_proba(xprime_into_model) #outputs -> numpy array [[x, 1-x]]\n",
    "        \n",
    "        output = Variable(torch.tensor(output[0]), requires_grad=True)\n",
    "        \n",
    "        output_pred = output.max(0, keepdim=True)[1].cpu().numpy()\n",
    "        \n",
    "        # Keep the best adverse at each iterations\n",
    "        if output_pred != orig_pred and r_norm_weighted < best_norm_weighted:\n",
    "            best_r = r\n",
    "            best_norm_weighted = r_norm_weighted\n",
    "            best_pert_x = xprime\n",
    "\n",
    "        if output_pred == orig_pred:\n",
    "            loop_change_class += 1\n",
    "            \n",
    "        loop_i += 1 \n",
    "        \n",
    "    # Clip at the end no matter what\n",
    "    best_pert_x = clip(best_pert_x, bounds[0], bounds[1])\n",
    "    best_pert_x_into_model = torch.unsqueeze(best_pert_x, 0)\n",
    "    output = model.predict_proba(best_pert_x_into_model)\n",
    "    output = Variable(torch.tensor(output[0]), requires_grad=False)\n",
    "    output_pred = output.max(0, keepdim=True)[1].cpu().numpy()\n",
    "    \n",
    "    return orig_pred, output_pred, best_pert_x.clone().detach().cpu().numpy(), loop_change_class"
   ]
  },
  {
   "cell_type": "code",
   "execution_count": 56,
   "metadata": {},
   "outputs": [
    {
     "name": "stderr",
     "output_type": "stream",
     "text": [
      "LowProFool: 100%|██████████| 10/10 [00:24<00:00,  2.47s/it]\n"
     ]
    }
   ],
   "source": [
    "# Generate adversarial examples\n",
    "df_adv_lpf, *lpf_data = gen_adv(loaded_clf, settings, 'LowProFool')"
   ]
  },
  {
   "cell_type": "markdown",
   "metadata": {},
   "source": [
    "# Attack Results"
   ]
  },
  {
   "cell_type": "code",
   "execution_count": 57,
   "metadata": {},
   "outputs": [
    {
     "name": "stdout",
     "output_type": "stream",
     "text": [
      "Iterations: 500 , Alpha: 0.1 , Lambda: 8.5\n",
      "\n",
      "Before:\n",
      "[1 1 1 0 1 0 0 0 1 0]\n",
      "After:\n",
      "[0 0 0 1 0 1 1 1 0 1]\n",
      "\n",
      "Adverserial generation success: 1.0\n"
     ]
    }
   ],
   "source": [
    "iterations = settings['MaxIters']\n",
    "alpha = settings['Alpha']\n",
    "lambdaa = settings['Lambda']\n",
    "print(f'Iterations: {iterations} , Alpha: {alpha} , Lambda: {lambdaa}')\n",
    "print('')\n",
    "print('Before:')\n",
    "print(loaded_clf.predict(settings['TestData'].values))\n",
    "print('After:')\n",
    "print(loaded_clf.predict(df_adv_lpf[features].values))\n",
    "print('')\n",
    "\n",
    "\n",
    "x = loaded_clf.predict(df_adv_lpf[features].values)\n",
    "\n",
    "y = loaded_clf.predict(settings['TestData'].values)\n",
    "result = sum(x != y) / len(x)\n",
    "print(f\"Adverserial generation success: {result}\")"
   ]
  }
 ],
 "metadata": {
  "kernelspec": {
   "display_name": "Python 3",
   "language": "python",
   "name": "python3"
  },
  "language_info": {
   "codemirror_mode": {
    "name": "ipython",
    "version": 3
   },
   "file_extension": ".py",
   "mimetype": "text/x-python",
   "name": "python",
   "nbconvert_exporter": "python",
   "pygments_lexer": "ipython3",
   "version": "3.7.3"
  }
 },
 "nbformat": 4,
 "nbformat_minor": 2
}
